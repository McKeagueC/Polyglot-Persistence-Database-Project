{
 "cells": [
  {
   "cell_type": "markdown",
   "metadata": {},
   "source": [
    "# Exeter Air Flight Database"
   ]
  },
  {
   "cell_type": "code",
   "execution_count": null,
   "metadata": {},
   "outputs": [],
   "source": [
    "import sqlite3\n",
    "\n",
    "print (sqlite3.sqlite_version)"
   ]
  },
  {
   "cell_type": "code",
   "execution_count": null,
   "metadata": {},
   "outputs": [],
   "source": [
    "conn = sqlite3.connect('ExeterAir.db')\n",
    "print(type(conn))\n",
    "\n",
    "## Enable foreign key constraints\n",
    "conn.execute(\"PRAGMA foreign_keys = 1\")\n",
    "\n",
    "cur=conn.cursor()\n",
    "print(type(cur))\n",
    "\n",
    "print(\"Opened database successfully\");"
   ]
  },
  {
   "cell_type": "code",
   "execution_count": 3,
   "metadata": {},
   "outputs": [],
   "source": [
    "def tables_in_sqlite_db(conn):\n",
    "    cursor = conn.execute(\"SELECT name FROM sqlite_master WHERE type='table';\")\n",
    "    tables = [\n",
    "        v[0] for v in cursor.fetchall()\n",
    "        if v[0] != \"sqlite_sequence\"\n",
    "    ]\n",
    "    cursor.close()\n",
    "    return tables"
   ]
  },
  {
   "cell_type": "code",
   "execution_count": 4,
   "metadata": {},
   "outputs": [
    {
     "name": "stdout",
     "output_type": "stream",
     "text": [
      "[]\n"
     ]
    }
   ],
   "source": [
    "tables = tables_in_sqlite_db(conn)\n",
    "\n",
    "print(tables)"
   ]
  },
  {
   "cell_type": "markdown",
   "metadata": {},
   "source": [
    "## Implement 5 tables from ER diagram"
   ]
  },
  {
   "cell_type": "code",
   "execution_count": 5,
   "metadata": {},
   "outputs": [
    {
     "name": "stdout",
     "output_type": "stream",
     "text": [
      "Tables created successfully\n"
     ]
    }
   ],
   "source": [
    "qry='''\n",
    "\n",
    "CREATE TABLE DEPT_AIRPORT_INFO (\n",
    "        airportCode   TEXT (3)   PRIMARY KEY,\n",
    "        airportName   TEXT (50),\n",
    "        airportCheckIn   INTEGER,\n",
    "        airportBoarding   INTEGER\n",
    "    );\n",
    "CREATE TABLE EA_FLIGHT (\n",
    "        flightID   INTEGER   PRIMARY KEY,\n",
    "        flightDist   INTEGER, \n",
    "        flightDept   DATETIME,\n",
    "        flightArr   DATETIME,\n",
    "        depAirportCode   TEXT (3)   REFERENCES DEPT_AIRPORT_INFO (airportCode),\n",
    "        arrAirportCode   TEXT (3),\n",
    "        airplaneID   INTEGER   REFERENCES EA_AIRPLANE (airplaneID)\n",
    "    );\n",
    "CREATE TABLE EA_AIRPLANE (\n",
    "        airplaneID INTEGER   PRIMARY KEY AUTOINCREMENT,\n",
    "        airplaneModel   TEXT (50),\n",
    "        airplaneCapacity   INTEGER\n",
    "    );\n",
    "CREATE TABLE PASSENGER (\n",
    "        passengerID     INTEGER     PRIMARY KEY,\n",
    "        passengerFirstName    TEXT (30),\n",
    "        passengerLastName   TEXT (30),\n",
    "        membershipType   TEXT (15),\n",
    "        passengerAddress   TEXT (50),\n",
    "        passengerEmail   TEXT (30)   UNIQUE\n",
    "    );\n",
    "CREATE TABLE TICKET (\n",
    "        ticketID     INTEGER     PRIMARY KEY,\n",
    "        ticketPrice   INTEGER,\n",
    "        ticketInvoice   INTEGER   UNIQUE,\n",
    "        passengerID   INTEGER   REFERENCES PASSENGER (passengerID),\n",
    "        flightID   INTEGER   REFERENCES EA_FLIGHT (flightID)\n",
    "    );\n",
    "\n",
    "'''\n",
    "try:\n",
    "        cur.executescript(qry)\n",
    "        print ('Tables created successfully')\n",
    "except:\n",
    "        print ('Error in creating tables')"
   ]
  },
  {
   "cell_type": "code",
   "execution_count": 6,
   "metadata": {},
   "outputs": [],
   "source": [
    "#Drop tables if neccessary\n",
    "\n",
    "# cur.execute(\"DROP TABLE IF EXISTS DEPT_AIRPORT_INFO;\")\n",
    "# cur.execute(\"DROP TABLE IF EXISTS EA_FLIGHT;\")\n",
    "# cur.execute(\"DROP TABLE IF EXISTS EA_AIRPLANE;\")\n",
    "# cur.execute(\"DROP TABLE IF EXISTS PASSENGER;\")\n",
    "# cur.execute(\"DROP TABLE IF EXISTS TICKET;\")\n"
   ]
  },
  {
   "cell_type": "markdown",
   "metadata": {},
   "source": [
    "## Inserting records (Create)"
   ]
  },
  {
   "cell_type": "code",
   "execution_count": 7,
   "metadata": {},
   "outputs": [
    {
     "name": "stdout",
     "output_type": "stream",
     "text": [
      "Records inserted successfully..committed\n"
     ]
    }
   ],
   "source": [
    "## Populate DEPT_AIRPORT_INFO with records\n",
    "\n",
    "qry=\"insert into DEPT_AIRPORT_INFO (airportCode, airportName, airportCheckIn, airportBoarding) values (?,?,?,?);\"\n",
    "\n",
    "airportlist=[('EXT', 'Exeter Airport', 80, 30),\n",
    "             ('LHR', 'Heathrow Airport', 90, 30),\n",
    "             ('JFK','John F. Kennedy International Airport',110,45),\n",
    "             ('NRT','Narita International Airport',70,25),\n",
    "             ('SXF','Berlin Schoenfeld Airport ',90,40),\n",
    "             ('BCN','Josep Tarradellas Barcelona-El Prat Airport',120,45),\n",
    "             ('DBV','Dubrovnik Airport',80,35),\n",
    "             ('LGW','Gatwick Airport',100,35),\n",
    "             ('CAI','Cairo International Airport',120,45),\n",
    "             ('SYD','Sydney Airport',90,30),\n",
    "             ('EDI','Edinburgh Airport',70,25),\n",
    "             ('CDG','Charles de Gaulle Airport ',90,35)]\n",
    "\n",
    "\n",
    "try:\n",
    "        cur.executemany(qry, airportlist)\n",
    "        conn.commit()\n",
    "        print ('Records inserted successfully..committed')\n",
    "except:\n",
    "        print ('Error in insert operation..rollback')\n",
    "        conn.rollback()"
   ]
  },
  {
   "cell_type": "code",
   "execution_count": 8,
   "metadata": {},
   "outputs": [
    {
     "name": "stdout",
     "output_type": "stream",
     "text": [
      "Records inserted successfully..committed\n"
     ]
    }
   ],
   "source": [
    "## Populate EA_AIRPLANE with records\n",
    "\n",
    "qry=\"insert into EA_AIRPLANE (airplaneID, airplaneModel, airplaneCapacity) values (?,?,?);\"\n",
    "\n",
    "airplanelist=[(1,'Boeing 747-400',524),\n",
    "              (2,'Boeing 777-300',460),\n",
    "              (3,'Airbus A340-300',295),\n",
    "              (4,'Airbus A350-900',310),\n",
    "              (5,'Boeing 777-300',460),\n",
    "              (6,'Airbus A340-300',295)]\n",
    "\n",
    "\n",
    "try:\n",
    "        cur.executemany(qry, airplanelist)\n",
    "        conn.commit()\n",
    "        print ('Records inserted successfully..committed')\n",
    "except:\n",
    "        print ('Error in insert operation..rollback')\n",
    "        conn.rollback()"
   ]
  },
  {
   "cell_type": "code",
   "execution_count": 9,
   "metadata": {},
   "outputs": [
    {
     "name": "stdout",
     "output_type": "stream",
     "text": [
      "Records inserted successfully..committed\n"
     ]
    }
   ],
   "source": [
    "## Populate EA_FLIGHT with records\n",
    "\n",
    "qry=\"insert into EA_FLIGHT (flightID, flightDist, flightDept, flightArr, depAirportCode, arrAirportCode, airplaneID) values (?,?,?,?,?,?,?);\"\n",
    "\n",
    "flight_list=[(1,700,'01/11/2021  12:00:00','01/11/2021  14:15:00','EXT','BCN',1),\n",
    "            (2,1049,'01/11/2021  13:30:00','01/11/2021  16:15:00','LHR','DBV',2),\n",
    "            (3,3461,'13/11/2021  08:15:00','13/11/2021  16:25:00','JFK','LGW',6),\n",
    "            (4,2287,'14/11/2021  08:00:00','14/11/2021  13:30:00','EXT','CAI',1),\n",
    "            (5,10559,'20/11/2021  12:00:00','21/11/2021  10:50:00','LHR','SYD',5),\n",
    "            (6,5745,'20/11/2021  09:00:00','20/11/2021  23:30:00','NRT','EDI',2),\n",
    "            (7,361,'25/11/2021  19:00:00','25/11/2021  20:25:00','EXT','EDI',3),\n",
    "            (8,579,'10/12/2021  15:15:00','10/12/2021  17:20:00','SXF','LGW',6),\n",
    "            (9,292,'11/12/2021  18:30:00','11/12/2021  19:45:00','EXT','CDG',2)]\n",
    "\n",
    "\n",
    "try:\n",
    "        cur.executemany(qry, flight_list)\n",
    "        conn.commit()\n",
    "        print ('Records inserted successfully..committed')\n",
    "except:\n",
    "        print ('Error in insert operation..rollback')\n",
    "        conn.rollback()"
   ]
  },
  {
   "cell_type": "code",
   "execution_count": 10,
   "metadata": {},
   "outputs": [
    {
     "name": "stdout",
     "output_type": "stream",
     "text": [
      "Records inserted successfully..committed\n"
     ]
    }
   ],
   "source": [
    "## Populate PASSENGER with records\n",
    "\n",
    "qry=\"insert into PASSENGER (passengerID, passengerFirstName, passengerLastName, membershipType, passengerAddress, passengerEmail) values (?,?,?,?,?,?);\"\n",
    "\n",
    "passengerlist=[(1,'Millie','Britton','Gold',\"'1 Little Castle St, Exeter, EX4 3PX'\",'Millie.Britton@hotmail.com'),\n",
    "               (2,'Andrew','Clear','Bronze',\"'1 Summerland St, Exeter, EX1 2AZ'\",'Andrew.Clear@hotmail.com'),\n",
    "               (3,'Alice','Robinson','Gold',\"'4 The Quay, Exeter, EX2 4AP'\",'Alice.Robinson@hotmail.com'),\n",
    "               (4,'George','Willis','Silver',\"'83-84 Queen St, Exeter, EX4 3RP'\",'George.Willis@hotmail.com'),\n",
    "               (5,'Eloise','Payne','Silver',\"'54 Mary Arches St, Exeter, EX4 3AZ'\",'Eloise.Payne@hotmail.com'),\n",
    "               (6,'Saffron','Hill','Silver',\"'New N Rd, Exeter, EX4 4AH'\",'Saffron.Hill@hotmail.com'),\n",
    "               (7,'Ewan','Cliffe','Bronze',\"'1 Haven Rd, Exeter, EX2 8GR'\",'Ewan.Cliffe@hotmail.com'),\n",
    "               (8,'Christopher','Reid','Gold',\"'81-82 Fore St, Exeter EX4 3HR'\",'Christopher.Reid@hotmail.com'),\n",
    "               (9,'Jaxton','Wilton','Bronze',\"'36 Victoria St, Exeter, EX4 6JQ'\",'Jaxton.Wilton@hotmail.com'),\n",
    "               (10,'Twila','Munson','Silver',\"'1-3 Martins Ln, Exeter, EX1 1EY'\",'Twila.Munson@hotmail.com')]\n",
    "\n",
    "try:\n",
    "        cur.executemany(qry, passengerlist)\n",
    "        conn.commit()\n",
    "        print ('Records inserted successfully..committed')\n",
    "except:\n",
    "        print ('Error in insert operation..rollback')\n",
    "        conn.rollback()"
   ]
  },
  {
   "cell_type": "code",
   "execution_count": 11,
   "metadata": {},
   "outputs": [
    {
     "name": "stdout",
     "output_type": "stream",
     "text": [
      "Records inserted successfully..committed\n"
     ]
    }
   ],
   "source": [
    "## Populate TICKET with records\n",
    "\n",
    "qry=\"insert into TICKET (ticketID, ticketPrice, ticketInvoice, passengerID, flightID) values (?,?,?,?,?);\"\n",
    "\n",
    "ticketlist=[(35498,150,38952,1,1),\n",
    "            (65445,1100,68899,9,5),\n",
    "            (68746,80,72200,1,7),\n",
    "            (87156,840,90610,4,3),\n",
    "            (12894,220,16348,2,8),\n",
    "            (31254,200,34708,8,2),\n",
    "            (61874,680,65328,6,4),\n",
    "            (93274,80,96728,6,9),\n",
    "            (24951,680,28405,7,4),\n",
    "            (23579,1100,27033,3,5),\n",
    "            (68423,680,71877,5,4),\n",
    "            (48515,760,51969,4,6),\n",
    "            (47852,220,51306,9,8),\n",
    "            (25845,80,29299,1,9),\n",
    "            (78542,80,81996,10,9)]\n",
    "try:\n",
    "        cur.executemany(qry, ticketlist)\n",
    "        conn.commit()\n",
    "        print ('Records inserted successfully..committed')\n",
    "except:\n",
    "        print ('Error in insert operation..rollback')\n",
    "        conn.rollback()"
   ]
  },
  {
   "cell_type": "markdown",
   "metadata": {},
   "source": [
    "## Query data (Read)"
   ]
  },
  {
   "cell_type": "code",
   "execution_count": 12,
   "metadata": {},
   "outputs": [
    {
     "name": "stdout",
     "output_type": "stream",
     "text": [
      "(1, 700, '01/11/2021  12:00:00', '01/11/2021  14:15:00', 'EXT', 'BCN', 1)\n",
      "(2, 1049, '01/11/2021  13:30:00', '01/11/2021  16:15:00', 'LHR', 'DBV', 2)\n",
      "(3, 3461, '13/11/2021  08:15:00', '13/11/2021  16:25:00', 'JFK', 'LGW', 6)\n",
      "(4, 2287, '14/11/2021  08:00:00', '14/11/2021  13:30:00', 'EXT', 'CAI', 1)\n",
      "(5, 10559, '20/11/2021  12:00:00', '21/11/2021  10:50:00', 'LHR', 'SYD', 5)\n",
      "(6, 5745, '20/11/2021  09:00:00', '20/11/2021  23:30:00', 'NRT', 'EDI', 2)\n",
      "(7, 361, '25/11/2021  19:00:00', '25/11/2021  20:25:00', 'EXT', 'EDI', 3)\n",
      "(8, 579, '10/12/2021  15:15:00', '10/12/2021  17:20:00', 'SXF', 'LGW', 6)\n",
      "(9, 292, '11/12/2021  18:30:00', '11/12/2021  19:45:00', 'EXT', 'CDG', 2)\n"
     ]
    }
   ],
   "source": [
    "# Basic query to display records from the table EA_FLIGHT (all rows)\n",
    "\n",
    "# Prepare the query String\n",
    "qry=\"select * from EA_FLIGHT;\"\n",
    "\n",
    "# Execute query on SQLite\n",
    "cur.execute(qry)\n",
    "\n",
    "# Fetch and display all rows\n",
    "rows=cur.fetchall()\n",
    "\n",
    "for row in rows:\n",
    "    print (row)"
   ]
  },
  {
   "cell_type": "code",
   "execution_count": 13,
   "metadata": {},
   "outputs": [
    {
     "name": "stdout",
     "output_type": "stream",
     "text": [
      "(25845, 80, 29299, 1, 9)\n",
      "(68746, 80, 72200, 1, 7)\n"
     ]
    }
   ],
   "source": [
    "# Query to display records from the table TICKET for passenger with passengerID = 1 and tickets costing less than 100\n",
    "\n",
    "# Prepare the query String\n",
    "qry=\"select * from TICKET where passengerID = 1 and ticketPrice <= 100;\"\n",
    "\n",
    "# Execute query on SQLite\n",
    "cur.execute(qry)\n",
    "\n",
    "# Fetch and display all rows\n",
    "rows=cur.fetchall()\n",
    "\n",
    "for row in rows:\n",
    "    print (row)"
   ]
  },
  {
   "cell_type": "code",
   "execution_count": 14,
   "metadata": {},
   "outputs": [
    {
     "name": "stdout",
     "output_type": "stream",
     "text": [
      "('Alice', 'Robinson', 1100, 'LHR', 'SYD')\n",
      "('Andrew', 'Clear', 220, 'SXF', 'LGW')\n",
      "('Christopher', 'Reid', 200, 'LHR', 'DBV')\n",
      "('Eloise', 'Payne', 680, 'EXT', 'CAI')\n",
      "('Ewan', 'Cliffe', 680, 'EXT', 'CAI')\n",
      "('George', 'Willis', 760, 'NRT', 'EDI')\n",
      "('George', 'Willis', 840, 'JFK', 'LGW')\n",
      "('Jaxton', 'Wilton', 220, 'SXF', 'LGW')\n",
      "('Jaxton', 'Wilton', 1100, 'LHR', 'SYD')\n",
      "('Millie', 'Britton', 80, 'EXT', 'CDG')\n",
      "('Millie', 'Britton', 150, 'EXT', 'BCN')\n",
      "('Millie', 'Britton', 80, 'EXT', 'EDI')\n",
      "('Saffron', 'Hill', 680, 'EXT', 'CAI')\n",
      "('Saffron', 'Hill', 80, 'EXT', 'CDG')\n",
      "('Twila', 'Munson', 80, 'EXT', 'CDG')\n"
     ]
    }
   ],
   "source": [
    "# 3 table join to show passengers, flights they have tickets for (depature and arrival airports) and how much each flight cost.\n",
    "# Order the results by alphabetical order of the first name of passenger\n",
    "\n",
    "    \n",
    "# Prepare the query String\n",
    "\n",
    "qry='''\n",
    "\n",
    "select\n",
    "    PASSENGER.passengerFirstName,\n",
    "    PASSENGER.passengerLastName,\n",
    "    TICKET.ticketPrice,\n",
    "    EA_FLIGHT.depAirportCode,\n",
    "    EA_FLIGHT.arrAirportCode\n",
    "from PASSENGER\n",
    "join TICKET on PASSENGER.passengerID = TICKET.passengerID\n",
    "join EA_FLIGHT on EA_FLIGHT.flightID = TICKET.flightID\n",
    "order by PASSENGER.passengerFirstName\n",
    "\n",
    ";\n",
    "    \n",
    "'''\n",
    "\n",
    "# Execute query on SQLite\n",
    "cur.execute(qry)\n",
    "\n",
    "# Fetch and display all rows\n",
    "rows=cur.fetchall()\n",
    "\n",
    "for row in rows:\n",
    "    print (row)"
   ]
  },
  {
   "cell_type": "markdown",
   "metadata": {},
   "source": [
    "## Update records"
   ]
  },
  {
   "cell_type": "code",
   "execution_count": 15,
   "metadata": {},
   "outputs": [
    {
     "name": "stdout",
     "output_type": "stream",
     "text": [
      "('SXF', 'LGW', 220)\n",
      "('LHR', 'SYD', 1100)\n",
      "('EXT', 'CAI', 680)\n",
      "('EXT', 'CDG', 80)\n",
      "('LHR', 'DBV', 200)\n",
      "('EXT', 'BCN', 150)\n",
      "('SXF', 'LGW', 220)\n",
      "('NRT', 'EDI', 760)\n",
      "('EXT', 'CAI', 680)\n",
      "('LHR', 'SYD', 1100)\n",
      "('EXT', 'CAI', 680)\n",
      "('EXT', 'EDI', 80)\n",
      "('EXT', 'CDG', 80)\n",
      "('JFK', 'LGW', 840)\n",
      "('EXT', 'CDG', 80)\n"
     ]
    }
   ],
   "source": [
    "# Initial records of price\n",
    "\n",
    "qry='''\n",
    "\n",
    "select\n",
    "    EA_FLIGHT.depAirportCode,\n",
    "    EA_FLIGHT.arrAirportCode,\n",
    "    TICKET.ticketPrice\n",
    "from EA_FLIGHT\n",
    "join TICKET on EA_FLIGHT.flightID = TICKET.flightID\n",
    ";\n",
    "    \n",
    "'''\n",
    "\n",
    "# Execute query on SQLite\n",
    "cur.execute(qry)\n",
    "\n",
    "# Fetch and display all rows\n",
    "rows=cur.fetchall()\n",
    "\n",
    "for row in rows:\n",
    "    print (row)"
   ]
  },
  {
   "cell_type": "code",
   "execution_count": 16,
   "metadata": {},
   "outputs": [
    {
     "name": "stdout",
     "output_type": "stream",
     "text": [
      "Prices updated!\n"
     ]
    }
   ],
   "source": [
    "# Increase price of all flights by 20%\n",
    "\n",
    "\n",
    "qry='''\n",
    "\n",
    "update TICKET \n",
    "set ticketPrice = ticketPrice*1.2\n",
    ";\n",
    "'''\n",
    "\n",
    "try:\n",
    "        cur.execute(qry)\n",
    "        print ('Prices updated!')\n",
    "        conn.commit()\n",
    "except:\n",
    "        print ('Error in update operation .. rollback')\n",
    "        conn.rollback()"
   ]
  },
  {
   "cell_type": "markdown",
   "metadata": {},
   "source": [
    "## Delete Records\n"
   ]
  },
  {
   "cell_type": "code",
   "execution_count": 17,
   "metadata": {},
   "outputs": [
    {
     "name": "stdout",
     "output_type": "stream",
     "text": [
      "Error in update operation .. rollback\n"
     ]
    }
   ],
   "source": [
    "# Delete the flight with flightID=1\n",
    "\n",
    "qry='''\n",
    "\n",
    "delete from EA_FLIGHT\n",
    "where flightID = 1\n",
    ";\n",
    "'''\n",
    "\n",
    "try:\n",
    "        cur.execute(qry)\n",
    "        print ('Flight Deleted')\n",
    "        conn.commit()\n",
    "except:\n",
    "        print ('Error in update operation .. rollback')\n",
    "        conn.rollback()"
   ]
  },
  {
   "cell_type": "markdown",
   "metadata": {},
   "source": [
    "#### Foreign key constraint has disabled flightID = 1 from EA_FLIGHT from being deleted since child records exist in Ticket. \n",
    "\n",
    "#### Now let's try and delete airplaneID = 4 from EA_AIRPLANE. Since it has no child records it can be deleted"
   ]
  },
  {
   "cell_type": "code",
   "execution_count": 18,
   "metadata": {},
   "outputs": [
    {
     "name": "stdout",
     "output_type": "stream",
     "text": [
      "Airplane Deleted\n"
     ]
    }
   ],
   "source": [
    "# Delete the plane with airplaneID = 4\n",
    "\n",
    "qry='''\n",
    "\n",
    "delete from EA_AIRPLANE\n",
    "where airplaneID = 4\n",
    ";\n",
    "'''\n",
    "\n",
    "try:\n",
    "        cur.execute(qry)\n",
    "        print ('Airplane Deleted')\n",
    "        conn.commit()\n",
    "except:\n",
    "        print ('Error in update operation .. rollback')\n",
    "        conn.rollback()"
   ]
  },
  {
   "cell_type": "markdown",
   "metadata": {},
   "source": [
    "## NoSQL Ticket Database - Redis"
   ]
  },
  {
   "cell_type": "code",
   "execution_count": 19,
   "metadata": {},
   "outputs": [],
   "source": [
    "import pandas as pd\n",
    "import random"
   ]
  },
  {
   "cell_type": "code",
   "execution_count": 21,
   "metadata": {
    "scrolled": false
   },
   "outputs": [
    {
     "name": "stdout",
     "output_type": "stream",
     "text": [
      "True\n"
     ]
    }
   ],
   "source": [
    "# Import Redis package\n",
    "import redis\n",
    "\n",
    "# Main class Redis() which you use to execute Redis commands (the port and db=0 are default values)\n",
    "# Localhost = 127.0.0.1\n",
    "r = redis.Redis(host='localhost', port=6379, db=11, charset=\"utf-8\", decode_responses=True)\n",
    "\n",
    "# Check database connection -will return true if successful\n",
    "print(r.ping())"
   ]
  },
  {
   "cell_type": "markdown",
   "metadata": {},
   "source": [
    "#### In order to get the data required for each flight we need to use a join "
   ]
  },
  {
   "cell_type": "code",
   "execution_count": 22,
   "metadata": {},
   "outputs": [
    {
     "name": "stdout",
     "output_type": "stream",
     "text": [
      "(8, 264, 295)\n",
      "(5, 1320, 460)\n",
      "(4, 816, 524)\n",
      "(9, 96, 460)\n",
      "(2, 240, 460)\n",
      "(1, 180, 524)\n",
      "(8, 264, 295)\n",
      "(6, 912, 460)\n",
      "(4, 816, 524)\n",
      "(5, 1320, 460)\n",
      "(4, 816, 524)\n",
      "(7, 96, 295)\n",
      "(9, 96, 460)\n",
      "(3, 1008, 295)\n",
      "(9, 96, 460)\n"
     ]
    }
   ],
   "source": [
    "qry='''\n",
    "\n",
    "select\n",
    "    EA_FLIGHT.flightID,\n",
    "    TICKET.ticketPrice,\n",
    "    EA_AIRPLANE.airplaneCapacity\n",
    "from EA_AIRPLANE\n",
    "join EA_FLIGHT on EA_AIRPLANE.airplaneID = EA_FLIGHT.airplaneID\n",
    "join TICKET on EA_FLIGHT.flightID = TICKET.flightID\n",
    ";\n",
    "    \n",
    "'''\n",
    "\n",
    "# Execute query on SQLite\n",
    "cur.execute(qry)\n",
    "\n",
    "# Fetch and display all rows\n",
    "flight_data=cur.fetchall()\n",
    "\n",
    "for row in flight_data:\n",
    "    print (row)"
   ]
  },
  {
   "cell_type": "markdown",
   "metadata": {},
   "source": [
    "#### Use pandas to turn into a dataframe and clean data into syntax for input to redis"
   ]
  },
  {
   "cell_type": "code",
   "execution_count": 23,
   "metadata": {},
   "outputs": [
    {
     "data": {
      "text/plain": [
       "{'EA_Flight:8': {'Price': 264, 'N_Available': 295, 'N_Sold': 0},\n",
       " 'EA_Flight:5': {'Price': 1320, 'N_Available': 460, 'N_Sold': 0},\n",
       " 'EA_Flight:4': {'Price': 816, 'N_Available': 524, 'N_Sold': 0},\n",
       " 'EA_Flight:9': {'Price': 96, 'N_Available': 460, 'N_Sold': 0},\n",
       " 'EA_Flight:2': {'Price': 240, 'N_Available': 460, 'N_Sold': 0},\n",
       " 'EA_Flight:1': {'Price': 180, 'N_Available': 524, 'N_Sold': 0},\n",
       " 'EA_Flight:6': {'Price': 912, 'N_Available': 460, 'N_Sold': 0},\n",
       " 'EA_Flight:7': {'Price': 96, 'N_Available': 295, 'N_Sold': 0},\n",
       " 'EA_Flight:3': {'Price': 1008, 'N_Available': 295, 'N_Sold': 0}}"
      ]
     },
     "execution_count": 23,
     "metadata": {},
     "output_type": "execute_result"
    }
   ],
   "source": [
    "# Turn into pandas dataframe \n",
    "df = pd.DataFrame(flight_data)\n",
    "\n",
    "# Rename the header\n",
    "df.columns = ['flightID', 'Price', 'N_Available']\n",
    "\n",
    "# Remove duplicate rows\n",
    "df = df.drop_duplicates()\n",
    "\n",
    "# Insert new column called N_Sold with initial value of 0\n",
    "df['N_Sold'] = [0]*len(df.index)\n",
    "\n",
    "# Change values in flightID to include 'EA_Flight: '\n",
    "df['flightID'] = 'EA_Flight:' + df['flightID'].astype(str)\n",
    "\n",
    "# Set index of dataframe to be flightID\n",
    "df = df.set_index('flightID')\n",
    "\n",
    "# Transform to dictionary class\n",
    "df = df.to_dict('index')\n",
    "\n",
    "# Check output \n",
    "df"
   ]
  },
  {
   "cell_type": "markdown",
   "metadata": {},
   "source": [
    "### Create data and pipe into redis database"
   ]
  },
  {
   "cell_type": "code",
   "execution_count": 24,
   "metadata": {},
   "outputs": [
    {
     "name": "stderr",
     "output_type": "stream",
     "text": [
      "E:\\Anaconda\\lib\\site-packages\\ipykernel_launcher.py:3: DeprecationWarning: Pipeline.hmset() is deprecated. Use Pipeline.hset() instead.\n",
      "  This is separate from the ipykernel package so we can avoid doing imports until\n"
     ]
    }
   ],
   "source": [
    "with r.pipeline() as pipe:\n",
    "    for flight_id, EA_Flight in df.items():\n",
    "        pipe.hmset(flight_id, EA_Flight)\n",
    "    pipe.execute()"
   ]
  },
  {
   "cell_type": "code",
   "execution_count": 25,
   "metadata": {},
   "outputs": [
    {
     "data": {
      "text/plain": [
       "True"
      ]
     },
     "execution_count": 25,
     "metadata": {},
     "output_type": "execute_result"
    }
   ],
   "source": [
    "r.bgsave()"
   ]
  },
  {
   "cell_type": "markdown",
   "metadata": {},
   "source": [
    "### Query data (Read)"
   ]
  },
  {
   "cell_type": "code",
   "execution_count": 26,
   "metadata": {},
   "outputs": [
    {
     "data": {
      "text/plain": [
       "['EA_Flight:1',\n",
       " 'EA_Flight:2',\n",
       " 'EA_Flight:3',\n",
       " 'EA_Flight:4',\n",
       " 'EA_Flight:5',\n",
       " 'EA_Flight:6',\n",
       " 'EA_Flight:7',\n",
       " 'EA_Flight:8',\n",
       " 'EA_Flight:18',\n",
       " 'EA_Flight:9']"
      ]
     },
     "execution_count": 26,
     "metadata": {},
     "output_type": "execute_result"
    }
   ],
   "source": [
    "# Read all data with a key beginning with EA_Flight using pattern matching\n",
    "\n",
    "r.keys(\"EA_Flight*\")"
   ]
  },
  {
   "cell_type": "code",
   "execution_count": 27,
   "metadata": {},
   "outputs": [
    {
     "name": "stdout",
     "output_type": "stream",
     "text": [
      "{'Price': '912', 'N_Available': '460', 'N_Sold': '0'}\n"
     ]
    }
   ],
   "source": [
    "# Read hash with key value \"EA_Flight:1\"\n",
    "\n",
    "print(r.hgetall(\"EA_Flight:6\"))"
   ]
  },
  {
   "cell_type": "markdown",
   "metadata": {},
   "source": [
    "### Update data"
   ]
  },
  {
   "cell_type": "code",
   "execution_count": 28,
   "metadata": {},
   "outputs": [
    {
     "data": {
      "text/plain": [
       "0"
      ]
     },
     "execution_count": 28,
     "metadata": {},
     "output_type": "execute_result"
    }
   ],
   "source": [
    "# Update the price of EA_Flight:6 to 1000\n",
    "\n",
    "r.hset(\"EA_Flight:6\", 'Price', 1000)"
   ]
  },
  {
   "cell_type": "code",
   "execution_count": 29,
   "metadata": {},
   "outputs": [
    {
     "data": {
      "text/plain": [
       "True"
      ]
     },
     "execution_count": 29,
     "metadata": {},
     "output_type": "execute_result"
    }
   ],
   "source": [
    "# Rename EA_Flight:7 to EA_Flight:18\n",
    "r.rename(\"EA_Flight:7\", \"EA_Flight:18\")"
   ]
  },
  {
   "cell_type": "markdown",
   "metadata": {},
   "source": [
    "### Delete data"
   ]
  },
  {
   "cell_type": "code",
   "execution_count": 30,
   "metadata": {},
   "outputs": [
    {
     "data": {
      "text/plain": [
       "1"
      ]
     },
     "execution_count": 30,
     "metadata": {},
     "output_type": "execute_result"
    }
   ],
   "source": [
    "# Delete the Price value of EA_Flight:6\n",
    "\n",
    "r.hdel(\"EA_Flight:6\", 'Price')"
   ]
  },
  {
   "cell_type": "code",
   "execution_count": 31,
   "metadata": {},
   "outputs": [
    {
     "data": {
      "text/plain": [
       "1"
      ]
     },
     "execution_count": 31,
     "metadata": {},
     "output_type": "execute_result"
    }
   ],
   "source": [
    "# Delete the \"EA_Flight:6\" key\n",
    "\n",
    "r.delete(\"EA_Flight:6\")"
   ]
  },
  {
   "cell_type": "markdown",
   "metadata": {},
   "source": [
    "## Implement Polyglot Persistence"
   ]
  },
  {
   "cell_type": "code",
   "execution_count": 32,
   "metadata": {},
   "outputs": [],
   "source": [
    "# Checks the RDBMS to see if there is a tiket for the flight that the passenger has already purchased.\n",
    "# It works by taking the length of the number of rows returned by sqlite3 and adding them onto the variable x\n",
    "# If there is no ticket then there are no rows, x remains 0 and False is returned\n",
    "# If there is a ticket then x = 1 and True is returned\n",
    "\n",
    "def TicketExists(passengerid, flightid):\n",
    "    \n",
    "    x = 0\n",
    "    \n",
    "    # Prepare the query String\n",
    "    qry=\"select * from TICKET where passengerID = ? and flightID = ?;\"\n",
    "\n",
    "    # Execute query on SQLite\n",
    "    cur.execute(qry, (passengerid, flightid))\n",
    "\n",
    "    # Fetch and display all rows\n",
    "    rows=cur.fetchall()\n",
    "    \n",
    "    x =+ len(rows)\n",
    "    \n",
    "    if x > 0:\n",
    "        return True\n",
    "    else:\n",
    "        return False"
   ]
  },
  {
   "cell_type": "code",
   "execution_count": 33,
   "metadata": {},
   "outputs": [],
   "source": [
    "# Automates the adding of a record to the RDBMS Ticket table\n",
    "\n",
    "def AddTicket(passengerID, flightID, ticketPrice):\n",
    "    \n",
    "    qry = \"insert into TICKET (ticketPrice, ticketInvoice, passengerID, flightID) values (?,?,?,?);\"\n",
    "\n",
    "    try:\n",
    "            cur.execute(qry, (ticketPrice, random.getrandbits(20), passengerID, flightID))\n",
    "            print ('New booking made')\n",
    "            conn.commit()\n",
    "    except:\n",
    "            print ('Error in adding booking .. rollback')\n",
    "            conn.rollback()"
   ]
  },
  {
   "cell_type": "code",
   "execution_count": 34,
   "metadata": {},
   "outputs": [],
   "source": [
    "# Alters Redis database. First checks if there are any seats remaining. If there are then it alters the number of seats\n",
    "# available and number of seats sold. If any errors are flagged (for example by simultaneous purchase) then the \n",
    "# process is tried again. If statement contains the AddTicket function to execute together\n",
    "\n",
    "import logging\n",
    "\n",
    "logging.basicConfig()\n",
    "\n",
    "class OutOfStockError(Exception):\n",
    "    \"\"\"Raised when all flights have been booked\"\"\"\n",
    "\n",
    "def buyitem(r: redis.Redis, itemid: int, inputPassengerID, FindflightID, FindticketPrice) -> None:\n",
    "    with r.pipeline() as pipe:\n",
    "        error_count = 0\n",
    "        while True:\n",
    "            try:\n",
    "                # Get available inventory, watching for changes\n",
    "                # related to this itemid before the transaction\n",
    "                pipe.watch(itemid)\n",
    "                nleft = int(r.hget(itemid, \"N_Available\"))\n",
    "                if nleft > 0:\n",
    "                    pipe.multi()\n",
    "                    pipe.hincrby(itemid, \"N_Available\", -1)\n",
    "                    pipe.hincrby(itemid, \"N_Sold\", 1)\n",
    "                    pipe.execute()\n",
    "                    AddTicket(inputPassengerID, FindflightID, FindticketPrice)\n",
    "                    break\n",
    "                else:\n",
    "                    # Stop watching the itemid and raise to break out\n",
    "                    pipe.unwatch()\n",
    "                    raise OutOfStockError(\n",
    "                        f\"Sorry, {itemid} is all booked up!\"\n",
    "                    )\n",
    "            except redis.WatchError:\n",
    "                # Log total num. of errors by this user to buy this item,\n",
    "                # then try the same process again of WATCH/HGET/MULTI/EXEC\n",
    "                error_count += 1\n",
    "                logging.warning(\n",
    "                    \"WatchError #%d: %s; retrying\",\n",
    "                    error_count, itemid\n",
    "                )\n",
    "    return None"
   ]
  },
  {
   "cell_type": "code",
   "execution_count": 35,
   "metadata": {},
   "outputs": [],
   "source": [
    "# Brings together the previous functions to enable bookings to be made with both databases consulted and updated \n",
    "# in one function\n",
    "\n",
    "def completebooking(r: redis.Redis, flight: int):\n",
    "    \n",
    "    inputPassengerID=int(input('Enter passengerid:'))\n",
    "    FindticketPrice=int(r.hmget(flight, \"Price\")[0])\n",
    "    FindflightID=int(flight.split(\"EA_Flight:\",1)[1])\n",
    "    \n",
    "    if TicketExists(inputPassengerID, FindflightID) == False:\n",
    "        buyitem(r, flight, inputPassengerID, FindflightID, FindticketPrice)\n",
    "        print(\"Ticket added to RDBMS and passenger booked onto flight!\")\n",
    "    else:\n",
    "        print(\"Sorry this passenger is already booked onto the flight!\")\n",
    "        \n",
    "    "
   ]
  },
  {
   "cell_type": "code",
   "execution_count": 36,
   "metadata": {},
   "outputs": [
    {
     "name": "stdout",
     "output_type": "stream",
     "text": [
      "{'N_Sold': '0', 'Price': '180', 'N_Available': '524'}\n"
     ]
    }
   ],
   "source": [
    "print(r.hgetall(\"EA_Flight:1\"))"
   ]
  },
  {
   "cell_type": "markdown",
   "metadata": {},
   "source": [
    "#### Play around with function below to see ticketing system in action. The join 2 cells down shows flightId and passengerID so you can see if a passenger is already booked onto the flight"
   ]
  },
  {
   "cell_type": "code",
   "execution_count": 37,
   "metadata": {},
   "outputs": [
    {
     "name": "stdout",
     "output_type": "stream",
     "text": [
      "Enter passengerid:2\n",
      "New booking made\n",
      "Ticket added to RDBMS and passenger booked onto flight!\n"
     ]
    }
   ],
   "source": [
    "completebooking(r, \"EA_Flight:1\")"
   ]
  },
  {
   "cell_type": "code",
   "execution_count": 38,
   "metadata": {},
   "outputs": [
    {
     "name": "stdout",
     "output_type": "stream",
     "text": [
      "(1, 1)\n",
      "(1, 2)\n",
      "(2, 8)\n",
      "(3, 4)\n",
      "(4, 7)\n",
      "(4, 6)\n",
      "(4, 5)\n",
      "(5, 3)\n",
      "(5, 9)\n",
      "(6, 4)\n",
      "(7, 1)\n",
      "(8, 2)\n",
      "(8, 9)\n",
      "(9, 1)\n",
      "(9, 10)\n",
      "(9, 6)\n"
     ]
    }
   ],
   "source": [
    "qry='''\n",
    "\n",
    "select\n",
    "    EA_FLIGHT.flightID,\n",
    "    PASSENGER.passengerID\n",
    "from EA_FLIGHT\n",
    "join TICKET on EA_FLIGHT.flightID = TICKET.flightID\n",
    "join PASSENGER on TICKET.passengerID = PASSENGER.passengerID\n",
    "order by EA_FLIGHT.flightID\n",
    ";\n",
    "    \n",
    "'''\n",
    "\n",
    "# Execute query on SQLite\n",
    "cur.execute(qry)\n",
    "\n",
    "# Fetch and display all rows\n",
    "flight_data=cur.fetchall()\n",
    "\n",
    "for row in flight_data:\n",
    "    print (row)"
   ]
  },
  {
   "cell_type": "code",
   "execution_count": 39,
   "metadata": {},
   "outputs": [
    {
     "data": {
      "text/plain": [
       "True"
      ]
     },
     "execution_count": 39,
     "metadata": {},
     "output_type": "execute_result"
    }
   ],
   "source": [
    "r.bgsave()"
   ]
  },
  {
   "cell_type": "code",
   "execution_count": 40,
   "metadata": {},
   "outputs": [],
   "source": [
    "r.connection_pool.disconnect()"
   ]
  },
  {
   "cell_type": "code",
   "execution_count": 41,
   "metadata": {},
   "outputs": [],
   "source": [
    "conn.close()"
   ]
  },
  {
   "cell_type": "code",
   "execution_count": null,
   "metadata": {},
   "outputs": [],
   "source": []
  }
 ],
 "metadata": {
  "kernelspec": {
   "display_name": "Python 3",
   "language": "python",
   "name": "python3"
  },
  "language_info": {
   "codemirror_mode": {
    "name": "ipython",
    "version": 3
   },
   "file_extension": ".py",
   "mimetype": "text/x-python",
   "name": "python",
   "nbconvert_exporter": "python",
   "pygments_lexer": "ipython3",
   "version": "3.7.3"
  }
 },
 "nbformat": 4,
 "nbformat_minor": 4
}
